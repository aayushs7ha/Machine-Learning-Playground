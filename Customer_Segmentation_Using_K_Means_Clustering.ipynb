{
  "nbformat": 4,
  "nbformat_minor": 0,
  "metadata": {
    "colab": {
      "name": "Customer Segmentation Using K-Means Clustering.ipynb",
      "private_outputs": true,
      "provenance": [],
      "collapsed_sections": [],
      "toc_visible": true
    },
    "kernelspec": {
      "name": "python3",
      "display_name": "Python 3"
    },
    "language_info": {
      "name": "python"
    },
    "accelerator": "GPU"
  },
  "cells": [
    {
      "cell_type": "markdown",
      "source": [
        "# Customer Segmentation using K-means clustering"
      ],
      "metadata": {
        "id": "IhL_LcZRyGK9"
      }
    },
    {
      "cell_type": "code",
      "source": [
        "# importing libraries\n",
        "\n",
        "import numpy as np\n",
        "import pandas as pd\n",
        "import matplotlib.pyplot as plt\n",
        "import seaborn as sns\n",
        "from sklearn.cluster import KMeans"
      ],
      "metadata": {
        "id": "hGDV2ieayMoH"
      },
      "execution_count": null,
      "outputs": []
    },
    {
      "cell_type": "code",
      "source": [
        "# Load the data \n",
        "\n",
        "customer_data = pd.read_csv(\"/content/Mall_Customers.csv\")"
      ],
      "metadata": {
        "id": "cEHXTOQzyMxs"
      },
      "execution_count": null,
      "outputs": []
    },
    {
      "cell_type": "code",
      "source": [
        "# Explore few rows from the customer dataframe\n",
        "customer_data.head(5)"
      ],
      "metadata": {
        "id": "9BAopavNyv55"
      },
      "execution_count": null,
      "outputs": []
    },
    {
      "cell_type": "code",
      "source": [
        "# Dimension of the dataframe\n",
        "customer_data.shape"
      ],
      "metadata": {
        "id": "xpGGX4Lhy4TC"
      },
      "execution_count": null,
      "outputs": []
    },
    {
      "cell_type": "markdown",
      "source": [
        "200 customers with 5 attributes "
      ],
      "metadata": {
        "id": "In9Dfcvxzdmk"
      }
    },
    {
      "cell_type": "code",
      "source": [
        "# Descriptive statistics \n",
        "customer_data.describe(include='O')"
      ],
      "metadata": {
        "id": "nhbQudCvzY0l"
      },
      "execution_count": null,
      "outputs": []
    },
    {
      "cell_type": "code",
      "source": [
        "customer_data.describe()"
      ],
      "metadata": {
        "id": "_ylhXTHbzs_W"
      },
      "execution_count": null,
      "outputs": []
    },
    {
      "cell_type": "code",
      "source": [
        "customer_data.info()"
      ],
      "metadata": {
        "id": "3-Ou67Z1zx39"
      },
      "execution_count": null,
      "outputs": []
    },
    {
      "cell_type": "code",
      "source": [
        "customer_data.isnull().sum()"
      ],
      "metadata": {
        "id": "wKbhfgoHz4Sf"
      },
      "execution_count": null,
      "outputs": []
    },
    {
      "cell_type": "markdown",
      "source": [
        "## Choosing the annual income and spending score for clustering"
      ],
      "metadata": {
        "id": "mdhv8whJ0HmM"
      }
    },
    {
      "cell_type": "code",
      "source": [
        "X = customer_data.iloc[:,[3,4]].values "
      ],
      "metadata": {
        "id": "9I51JcB8z-i-"
      },
      "execution_count": null,
      "outputs": []
    },
    {
      "cell_type": "code",
      "source": [
        "print(X)"
      ],
      "metadata": {
        "id": "EgppdEQj0e2v"
      },
      "execution_count": null,
      "outputs": []
    },
    {
      "cell_type": "markdown",
      "source": [
        ""
      ],
      "metadata": {
        "id": "PgrODWsh1DAO"
      }
    },
    {
      "cell_type": "code",
      "source": [
        "# x-axis -> annual income ; y-axis -> spending score"
      ],
      "metadata": {
        "id": "DDqXlTfg0gug"
      },
      "execution_count": null,
      "outputs": []
    },
    {
      "cell_type": "markdown",
      "source": [
        "# Choosing the number of clusters by using wcss\n",
        "# WCSS - Within cluster sum of squares - Distance b/w each data points with their centeroids\n",
        "\n",
        "# Finding wcss value for different no of clusters\n",
        "# idea is to find the cluster with minimum wcss value "
      ],
      "metadata": {
        "id": "ttqfxTJQ0ren"
      }
    },
    {
      "cell_type": "code",
      "source": [
        "wcss = []\n",
        "for i in range(1,11):\n",
        "   #taking 10 clusters (n-1, 11-1 = 10)\n",
        "   kmeans = KMeans(n_clusters=i, init='k-means++',random_state=42)\n",
        "   kmeans.fit(X)\n",
        "   wcss.append(kmeans.inertia_)#gives wcss value"
      ],
      "metadata": {
        "id": "5Tmnw29M1ahy"
      },
      "execution_count": null,
      "outputs": []
    },
    {
      "cell_type": "markdown",
      "source": [
        "# Plot an elbow graph to obtain the number of cluster with minimum wcss value"
      ],
      "metadata": {
        "id": "v7uDU-wU7rc2"
      }
    },
    {
      "cell_type": "code",
      "source": [
        "sns.set()\n",
        "plt.plot(1,11,wcss)\n",
        "plt.title(\"The elbow graph\")\n",
        "plt.xlabel('Number of clusters')\n",
        "plt.ylabel(\"WCSS\")\n",
        "plt.show()"
      ],
      "metadata": {
        "id": "j25k3iWc3GZ4"
      },
      "execution_count": null,
      "outputs": []
    },
    {
      "cell_type": "markdown",
      "source": [
        "### we see that there are 2 drops .. one at 2 and the other at 4\n",
        "### post 4 there is no significant drop \n",
        "### hence we will take the number of cluster to be 4\n",
        "\n",
        "## Optimum number of clusters = 4"
      ],
      "metadata": {
        "id": "gBn5-aqP8foX"
      }
    },
    {
      "cell_type": "code",
      "source": [
        "# training the k-means clustering model"
      ],
      "metadata": {
        "id": "BVYWGF2d8SHB"
      },
      "execution_count": null,
      "outputs": []
    },
    {
      "cell_type": "code",
      "source": [
        "kmeans = KMeans(n_clusters=4,init='k-means++', random_state = 42)\n",
        "\n",
        "# return a label for each data point based on their cluster (4 cluster - so cluster 0, cluster 1... cluster 3)\n",
        "\n",
        "Y = kmeans.fit_predict(X)\n",
        "#Compute cluster centers and predict cluster index for each sample.\n",
        "\n",
        "#Convenience method; equivalent to calling fit(X) followed by\n",
        "#predict(X)."
      ],
      "metadata": {
        "id": "RTgbLTqB9EYb"
      },
      "execution_count": null,
      "outputs": []
    },
    {
      "cell_type": "code",
      "source": [
        "print(Y)"
      ],
      "metadata": {
        "id": "rhs9hA4J-BNL"
      },
      "execution_count": null,
      "outputs": []
    },
    {
      "cell_type": "code",
      "source": [
        ""
      ],
      "metadata": {
        "id": "S63ZWB4FAAx6"
      },
      "execution_count": null,
      "outputs": []
    },
    {
      "cell_type": "markdown",
      "source": [
        "# Visualizing all the clusters - with their centroids"
      ],
      "metadata": {
        "id": "K_La_KnC-Z-4"
      }
    },
    {
      "cell_type": "code",
      "source": [
        "# matplotlib\n",
        "plt.figure(figsize=(8,8))\n",
        "plt.scatter(X[Y==0,0],X[Y==0,1], s = 50, c='blue',label='Cluster1')\n",
        "plt.scatter(X[Y==1,0],X[Y==1,1], s = 50, c='red',label='Cluster2')\n",
        "plt.scatter(X[Y==2,0],X[Y==2,1], s = 50, c='yellow',label='Cluster3')\n",
        "plt.scatter(X[Y==3,0],X[Y==3,1], s = 50, c='green',label='Cluster4')\n",
        "## 4 clusters - 0,1,2,3 \n",
        "## Y== 0,0 ; Y==0,1 represents first cluster 0, 0 - income , 1 =spending score and so on \n",
        "\n",
        "# plot the centroid\n",
        "plt.scatter(kmeans.cluster_centers_[:,0],kmeans.cluster_centers_[:,1], s = 100, c='black',label='Centeroid')\n",
        "plt.title('Customer Clusters')\n",
        "plt.xlabel(\"Annual Income\")\n",
        "plt.ylabel(\"Spending Score\")\n",
        "plt.show()"
      ],
      "metadata": {
        "id": "cyeeYokc-D2I"
      },
      "execution_count": null,
      "outputs": []
    },
    {
      "cell_type": "code",
      "source": [
        "# cluster 1 blue -  people have less income and less spending score \n",
        "# Cluster 2 red - have high income and high spending score - mall savvy\n",
        "# cluster 3 yellow - have average to high income and are less mall savvy\n",
        "# cluster 4 green - have less - to average income but are mall centric "
      ],
      "metadata": {
        "id": "micRg00CBaHs"
      },
      "execution_count": null,
      "outputs": []
    },
    {
      "cell_type": "code",
      "source": [
        ""
      ],
      "metadata": {
        "id": "_SxIbjjjCMTx"
      },
      "execution_count": null,
      "outputs": []
    }
  ]
}